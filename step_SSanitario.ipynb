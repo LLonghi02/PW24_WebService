{
  "nbformat": 4,
  "nbformat_minor": 0,
  "metadata": {
    "colab": {
      "provenance": []
    },
    "kernelspec": {
      "name": "python3",
      "display_name": "Python 3"
    },
    "language_info": {
      "name": "python"
    }
  },
  "cells": [
    {
      "cell_type": "markdown",
      "source": [
        "**Installazione da prompt dei comandi**"
      ],
      "metadata": {
        "id": "cMMpD0yJLaH2"
      }
    },
    {
      "cell_type": "markdown",
      "source": [
        "1. Andare al percorso della cartella scaricata (copiare il proprio percorso al posto dell'esempio)"
      ],
      "metadata": {
        "id": "7_wZAVAZcC5D"
      }
    },
    {
      "cell_type": "code",
      "source": [
        " cd C:\\...\\PW24_WebService-main"
      ],
      "metadata": {
        "id": "R0GWRg2IcDVj"
      },
      "execution_count": null,
      "outputs": []
    },
    {
      "cell_type": "markdown",
      "source": [
        "2. Attivare l'ambiente virtuale"
      ],
      "metadata": {
        "id": "DzTQihPSLdZt"
      }
    },
    {
      "cell_type": "code",
      "source": [
        "virtualDjango\\Scripts\\activate"
      ],
      "metadata": {
        "id": "yMLbzf02LfF2"
      },
      "execution_count": null,
      "outputs": []
    },
    {
      "cell_type": "markdown",
      "source": [
        "3. Aggiornare pip (per ottenere l'ultima versione)"
      ],
      "metadata": {
        "id": "aA2vJhq9RB2D"
      }
    },
    {
      "cell_type": "code",
      "source": [
        "python -m pip install --upgrade pip"
      ],
      "metadata": {
        "id": "K0WN_cMdRA73"
      },
      "execution_count": null,
      "outputs": []
    },
    {
      "cell_type": "markdown",
      "source": [
        "4. Installare Django (prerequisito per evitare errori futuri)"
      ],
      "metadata": {
        "id": "hAAq9tSMRPNU"
      }
    },
    {
      "cell_type": "code",
      "source": [
        "pip install django"
      ],
      "metadata": {
        "id": "7EF8HcDRRYdO"
      },
      "execution_count": null,
      "outputs": []
    },
    {
      "cell_type": "markdown",
      "source": [
        "5. Installare psycopg2-binary (crea il collegamento tra Python e PostgreSQL)"
      ],
      "metadata": {
        "id": "cVUmUQghevbS"
      }
    },
    {
      "cell_type": "code",
      "source": [
        "pip install psycopg2-binary"
      ],
      "metadata": {
        "id": "yvm6AaGFevyL"
      },
      "execution_count": null,
      "outputs": []
    },
    {
      "cell_type": "markdown",
      "source": [
        "6. Installare requests (gestisce le richieste HTTP in Python)"
      ],
      "metadata": {
        "id": "TEiprTTgewFi"
      }
    },
    {
      "cell_type": "code",
      "source": [
        "pip install requests"
      ],
      "metadata": {
        "id": "DK4P7M9yewPW"
      },
      "execution_count": null,
      "outputs": []
    },
    {
      "cell_type": "markdown",
      "source": [
        "7. Installare django-cors-headers (gestisce le richieste CORS)"
      ],
      "metadata": {
        "id": "_e5De36hTN-X"
      }
    },
    {
      "cell_type": "code",
      "source": [
        "pip install django-cors-headers"
      ],
      "metadata": {
        "id": "LYxJiERlTNQE"
      },
      "execution_count": null,
      "outputs": []
    },
    {
      "cell_type": "markdown",
      "source": [
        "8. Entrare nella cartella del progetto Django"
      ],
      "metadata": {
        "id": "8hIeEpt-tcqv"
      }
    },
    {
      "cell_type": "code",
      "source": [
        "cd PW24_SSanitario"
      ],
      "metadata": {
        "id": "TmC_I-AQteqb"
      },
      "execution_count": null,
      "outputs": []
    },
    {
      "cell_type": "markdown",
      "source": [
        "9. Fare partire il server"
      ],
      "metadata": {
        "id": "KKvQMdtat8mk"
      }
    },
    {
      "cell_type": "code",
      "source": [
        "python manage.py runserver"
      ],
      "metadata": {
        "id": "WS0gqQ04t7sz"
      },
      "execution_count": null,
      "outputs": []
    }
  ]
}