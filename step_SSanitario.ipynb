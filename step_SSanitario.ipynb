{
  "nbformat": 4,
  "nbformat_minor": 0,
  "metadata": {
    "colab": {
      "provenance": []
    },
    "kernelspec": {
      "name": "python3",
      "display_name": "Python 3"
    },
    "language_info": {
      "name": "python"
    }
  },
  "cells": [
    {
      "cell_type": "markdown",
      "source": [
        "**Installazione da terminale Windows (prompt dei comandi)**"
      ],
      "metadata": {
        "id": "cMMpD0yJLaH2"
      }
    },
    {
      "cell_type": "markdown",
      "source": [
        "1. Attivare l'ambiente virtuale"
      ],
      "metadata": {
        "id": "DzTQihPSLdZt"
      }
    },
    {
      "cell_type": "code",
      "source": [
        "virtualDjango\\Scripts\\activate"
      ],
      "metadata": {
        "id": "yMLbzf02LfF2"
      },
      "execution_count": null,
      "outputs": []
    },
    {
      "cell_type": "markdown",
      "source": [
        "2. Installare cors-headers"
      ],
      "metadata": {
        "id": "_e5De36hTN-X"
      }
    },
    {
      "cell_type": "code",
      "source": [
        "pip install django-cors-headers"
      ],
      "metadata": {
        "id": "LYxJiERlTNQE"
      },
      "execution_count": null,
      "outputs": []
    },
    {
      "cell_type": "markdown",
      "source": [
        "3. Entrare nella cartella del progetto Django"
      ],
      "metadata": {
        "id": "8hIeEpt-tcqv"
      }
    },
    {
      "cell_type": "code",
      "source": [
        "cd PW24_SSanitario"
      ],
      "metadata": {
        "id": "TmC_I-AQteqb"
      },
      "execution_count": null,
      "outputs": []
    },
    {
      "cell_type": "markdown",
      "source": [
        "4. Fare partire il server"
      ],
      "metadata": {
        "id": "KKvQMdtat8mk"
      }
    },
    {
      "cell_type": "code",
      "source": [
        "python manage.py runserver"
      ],
      "metadata": {
        "id": "WS0gqQ04t7sz"
      },
      "execution_count": null,
      "outputs": []
    }
  ]
}