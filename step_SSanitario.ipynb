{
  "nbformat": 4,
  "nbformat_minor": 0,
  "metadata": {
    "colab": {
      "provenance": []
    },
    "kernelspec": {
      "name": "python3",
      "display_name": "Python 3"
    },
    "language_info": {
      "name": "python"
    }
  },
  "cells": [
    {
      "cell_type": "markdown",
      "source": [
        "**Installazione da terminale Windows**"
      ],
      "metadata": {
        "id": "cMMpD0yJLaH2"
      }
    },
    {
      "cell_type": "markdown",
      "source": [
        "1. Attivare l'ambiente virtuale"
      ],
      "metadata": {
        "id": "DzTQihPSLdZt"
      }
    },
    {
      "cell_type": "code",
      "source": [
        "virtualDjango\\Scripts\\activate"
      ],
      "metadata": {
        "id": "yMLbzf02LfF2"
      },
      "execution_count": null,
      "outputs": []
    },
    {
      "cell_type": "markdown",
      "source": [
        "2. Entrare nella cartella del progetto Django"
      ],
      "metadata": {
        "id": "8hIeEpt-tcqv"
      }
    },
    {
      "cell_type": "code",
      "source": [
        "cd PW24_SSanitario"
      ],
      "metadata": {
        "id": "TmC_I-AQteqb"
      },
      "execution_count": null,
      "outputs": []
    },
    {
      "cell_type": "markdown",
      "source": [
        "3. Fare partire il server"
      ],
      "metadata": {
        "id": "KKvQMdtat8mk"
      }
    },
    {
      "cell_type": "code",
      "source": [
        "python manage.py runserver"
      ],
      "metadata": {
        "id": "WS0gqQ04t7sz"
      },
      "execution_count": null,
      "outputs": []
    }
  ]
}